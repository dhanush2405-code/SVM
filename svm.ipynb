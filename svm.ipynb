{
  "nbformat": 4,
  "nbformat_minor": 0,
  "metadata": {
    "colab": {
      "provenance": [],
      "authorship_tag": "ABX9TyOMyI+F09PT+ifQMzzlSpyt",
      "include_colab_link": true
    },
    "kernelspec": {
      "name": "python3",
      "display_name": "Python 3"
    },
    "language_info": {
      "name": "python"
    }
  },
  "cells": [
    {
      "cell_type": "markdown",
      "metadata": {
        "id": "view-in-github",
        "colab_type": "text"
      },
      "source": [
        "<a href=\"https://colab.research.google.com/github/dhanush2405-code/dhanush2405-code/blob/main/Untitled7.ipynb\" target=\"_parent\"><img src=\"https://colab.research.google.com/assets/colab-badge.svg\" alt=\"Open In Colab\"/></a>"
      ]
    },
    {
      "cell_type": "code",
      "source": [
        "import pandas as pd\n",
        "import numpy as np\n",
        "\n",
        "# Generating synthetic dataset\n",
        "np.random.seed(42)\n",
        "num_samples = 500\n",
        "\n",
        "data = {\n",
        "    'pH': np.random.uniform(6.0, 9.0, num_samples),\n",
        "    'Dissolved Oxygen': np.random.uniform(3.0, 10.0, num_samples),\n",
        "    'BOD': np.random.uniform(1.0, 8.0, num_samples),\n",
        "    'Nitrates': np.random.uniform(0.1, 50.0, num_samples),\n",
        "    'Turbidity': np.random.uniform(0.1, 10.0, num_samples),\n",
        "}\n",
        "\n",
        "# Define target variable (1 = Safe, 0 = Unsafe)\n",
        "data['Quality'] = [\n",
        "    1 if (6.5 <= pH <= 8.5 and do >= 5 and bod <= 3 and nitrates < 40 and turb < 5) else 0\n",
        "    for pH, do, bod, nitrates, turb in zip(data['pH'], data['Dissolved Oxygen'], data['BOD'], data['Nitrates'], data['Turbidity'])\n",
        "]\n",
        "\n",
        "# Create DataFrame\n",
        "df = pd.DataFrame(data)\n",
        "\n",
        "# Save dataset to CSV\n",
        "df.to_csv('water_quality_dataset.csv', index=False)\n",
        "print(\"Dataset saved as 'water_quality_dataset.csv'\")\n",
        "\n",
        "# Preview dataset\n",
        "print(df.head())"
      ],
      "metadata": {
        "colab": {
          "base_uri": "https://localhost:8080/"
        },
        "id": "8I4yr8l5aRyz",
        "outputId": "ac7ce411-4bab-42b3-98af-751d9aae0ba0"
      },
      "execution_count": null,
      "outputs": [
        {
          "output_type": "stream",
          "name": "stdout",
          "text": [
            "Dataset saved as 'water_quality_dataset.csv'\n",
            "         pH  Dissolved Oxygen       BOD   Nitrates  Turbidity  Quality\n",
            "0  7.123620          7.887132  2.295931  26.002181   2.690886        1\n",
            "1  8.852143          6.752675  4.793307  24.011176   2.545090        0\n",
            "2  8.195982          5.166693  7.110621   1.379539   9.071920        0\n",
            "3  7.795975          8.696565  6.125574  17.128267   2.570507        0\n",
            "4  6.468056          7.793118  6.645928  19.071761   2.792302        0\n"
          ]
        }
      ]
    },
    {
      "cell_type": "code",
      "source": [
        "df = pd.read_csv('water_quality_dataset.csv')\n",
        "print(df.head())"
      ],
      "metadata": {
        "colab": {
          "base_uri": "https://localhost:8080/"
        },
        "id": "XU9QuihLfpNc",
        "outputId": "b4efe764-9a18-43dd-aa6f-eef38a5c87a3"
      },
      "execution_count": null,
      "outputs": [
        {
          "output_type": "stream",
          "name": "stdout",
          "text": [
            "         pH  Dissolved Oxygen       BOD   Nitrates  Turbidity  Quality\n",
            "0  7.123620          7.887132  2.295931  26.002181   2.690886        1\n",
            "1  8.852143          6.752675  4.793307  24.011176   2.545090        0\n",
            "2  8.195982          5.166693  7.110621   1.379539   9.071920        0\n",
            "3  7.795975          8.696565  6.125574  17.128267   2.570507        0\n",
            "4  6.468056          7.793118  6.645928  19.071761   2.792302        0\n"
          ]
        }
      ]
    },
    {
      "cell_type": "code",
      "source": [
        "import pandas as pd\n",
        "import numpy as np\n",
        "import seaborn as sns\n",
        "import matplotlib.pyplot as plt\n",
        "from sklearn.model_selection import train_test_split\n",
        "from sklearn.preprocessing import StandardScaler\n",
        "from sklearn.svm import SVC\n",
        "from sklearn.metrics import accuracy_score, classification_report, confusion_matrix\n",
        "import os\n",
        "\n",
        "# Check if dataset exists, otherwise generate synthetic data\n",
        "file_path = 'water_quality_dataset.csv'\n",
        "if not os.path.exists(file_path):\n",
        "    print(\"Dataset not found. Generating synthetic dataset...\")\n",
        "    np.random.seed(42)\n",
        "    num_samples = 500\n",
        "    data = {\n",
        "        'pH': np.random.uniform(6.0, 9.0, num_samples),\n",
        "        'Dissolved Oxygen': np.random.uniform(3.0, 10.0, num_samples),\n",
        "        'BOD': np.random.uniform(1.0, 8.0, num_samples),\n",
        "        'Nitrates': np.random.uniform(0.1, 50.0, num_samples),\n",
        "        'Turbidity': np.random.uniform(0.1, 10.0, num_samples),\n",
        "    }\n",
        "    data['Quality'] = [\n",
        "        1 if (6.5 <= pH <= 8.5 and do >= 5 and bod <= 3 and nitrates < 40 and turb < 5) else 0\n",
        "        for pH, do, bod, nitrates, turb in zip(data['pH'], data['Dissolved Oxygen'], data['BOD'], data['Nitrates'], data['Turbidity'])\n",
        "    ]\n",
        "    df = pd.DataFrame(data)\n",
        "    df.to_csv(file_path, index=False)\n",
        "    print(f\"Synthetic dataset saved as {file_path}\")\n",
        "else:\n",
        "    df = pd.read_csv(file_path)\n",
        "    print(f\"Loaded dataset from {file_path}\")\n",
        "\n",
        "# Display first few rows of dataset\n",
        "print(\"Dataset Preview:\")\n",
        "print(df.head())\n",
        "\n",
        "# Check for missing values\n",
        "df = df.dropna()\n",
        "\n",
        "# Assume the last column is the target variable\n",
        "target_column = df.columns[-1]\n",
        "X = df.drop(columns=[target_column])\n",
        "y = df[target_column]\n",
        "\n",
        "# Split dataset into training and testing sets\n",
        "X_train, X_test, y_train, y_test = train_test_split(X, y, test_size=0.2, random_state=42)\n",
        "\n",
        "# Normalize features\n",
        "scaler = StandardScaler()\n",
        "X_train = scaler.fit_transform(X_train)\n",
        "X_test = scaler.transform(X_test)\n",
        "\n",
        "# Train Support Vector Machine model\n",
        "svm_model = SVC(kernel='rbf', C=1.0, gamma='scale')\n",
        "svm_model.fit(X_train, y_train)\n",
        "\n",
        "# Predictions\n",
        "y_pred = svm_model.predict(X_test)\n",
        "\n",
        "# Evaluate model\n",
        "accuracy = accuracy_score(y_test, y_pred)\n",
        "print(f\"Accuracy: {accuracy:.2f}\")\n",
        "print(\"Classification Report:\")\n",
        "print(classification_report(y_test, y_pred))\n",
        "\n",
        "# Confusion matrix\n",
        "plt.figure(figsize=(6, 4))\n",
        "sns.heatmap(confusion_matrix(y_test, y_pred), annot=True, fmt='d', cmap='Blues')\n",
        "plt.xlabel(\"Predicted\")\n",
        "plt.ylabel(\"Actual\")\n",
        "plt.title(\"Confusion Matrix\")\n",
        "plt.show()"
      ],
      "metadata": {
        "colab": {
          "base_uri": "https://localhost:8080/",
          "height": 740
        },
        "id": "4iEyZO8mfu-6",
        "outputId": "903d69ae-72b4-4ae1-8873-c96e8a2a7c35"
      },
      "execution_count": null,
      "outputs": [
        {
          "output_type": "stream",
          "name": "stdout",
          "text": [
            "Loaded dataset from water_quality_dataset.csv\n",
            "Dataset Preview:\n",
            "         pH  Dissolved Oxygen       BOD   Nitrates  Turbidity  Quality\n",
            "0  7.123620          7.887132  2.295931  26.002181   2.690886        1\n",
            "1  8.852143          6.752675  4.793307  24.011176   2.545090        0\n",
            "2  8.195982          5.166693  7.110621   1.379539   9.071920        0\n",
            "3  7.795975          8.696565  6.125574  17.128267   2.570507        0\n",
            "4  6.468056          7.793118  6.645928  19.071761   2.792302        0\n",
            "Accuracy: 0.96\n",
            "Classification Report:\n",
            "              precision    recall  f1-score   support\n",
            "\n",
            "           0       0.96      1.00      0.98        93\n",
            "           1       1.00      0.43      0.60         7\n",
            "\n",
            "    accuracy                           0.96       100\n",
            "   macro avg       0.98      0.71      0.79       100\n",
            "weighted avg       0.96      0.96      0.95       100\n",
            "\n"
          ]
        },
        {
          "output_type": "display_data",
          "data": {
            "text/plain": [
              "<Figure size 600x400 with 2 Axes>"
            ],
            "image/png": "[encoded data removed]"
          },
          "metadata": {}
        }
      ]
    },
    {
      "cell_type": "code",
      "source": [],
      "metadata": {
        "id": "2zx-DPzegmbr"
      },
      "execution_count": null,
      "outputs": []
    }
  ]
}
